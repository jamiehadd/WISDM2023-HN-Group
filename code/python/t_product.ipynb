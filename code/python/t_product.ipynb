{
 "cells": [
  {
   "cell_type": "code",
   "execution_count": 7,
   "id": "b9e98b14",
   "metadata": {
    "scrolled": false
   },
   "outputs": [],
   "source": [
    "import numpy as np"
   ]
  },
  {
   "cell_type": "code",
   "execution_count": 108,
   "id": "8a713b1f",
   "metadata": {},
   "outputs": [],
   "source": [
    "#T-product (note that in python the number of frontal slices are saved \n",
    "#under index 0 and not under index 3\n",
    "def linear_transform(X, transform):\n",
    "    L = transform['L']\n",
    "    n1 = transform['l']\n",
    "    return np.matmul(L(X, axis=0), transform['inverseL'](np.eye(n1), axis=0))\n",
    "\n",
    "def inverse_linear_transform(X, transform):\n",
    "    inverseL = transform['inverseL']\n",
    "    n1 = transform['l']\n",
    "    return np.matmul(inverseL(X, axis=0), inverseL(np.eye(n1), axis=0))\n",
    "\n",
    "def tprod(A, B):\n",
    "    n1, n2, n3 = A.shape\n",
    "    m1, m2, m3 = B.shape\n",
    "\n",
    "    if n3 != m2 or n1 != m1:\n",
    "        raise ValueError('Inner tensor dimensions must agree.')\n",
    "\n",
    "\n",
    "    transform = {\n",
    "        'L': np.fft.fft,\n",
    "        'l': n1,\n",
    "        'inverseL': np.fft.ifft\n",
    "    }\n",
    "\n",
    "    C = np.zeros((n1, n2, m3), dtype=complex)\n",
    "\n",
    "    if transform['L'] == np.fft.fft:\n",
    "        # efficient computing for fft transform\n",
    "        A = np.fft.fft(A, axis=0)\n",
    "        B = np.fft.fft(B, axis=0)\n",
    "        halfn1 = np.ceil((n3 + 1) / 2).astype(int)\n",
    "        for i in range(halfn1):\n",
    "            C[i, :, :] = np.matmul(A[i, :, :], B[i, :, :])\n",
    "        for i in range(halfn1 + 1, n1):\n",
    "            C[i, :, :] = np.conj(C[n1 + 1 - i, :, :])\n",
    "        C = np.fft.ifft(C, axis=0)\n",
    "    else:\n",
    "        # other transform\n",
    "        A = linear_transform(A, transform)\n",
    "        B = linear_transform(B, transform)\n",
    "        for i in range(n1):\n",
    "            C[i, :, :] = np.matmul(A[i, :, :], B[i, :, :])\n",
    "        C = inverse_linear_transform(C, transform)\n",
    "\n",
    "    return C"
   ]
  },
  {
   "cell_type": "code",
   "execution_count": 111,
   "id": "3db39e09",
   "metadata": {},
   "outputs": [
    {
     "name": "stdout",
     "output_type": "stream",
     "text": [
      "[[[  4.+0.j]\n",
      "  [-19.+0.j]\n",
      "  [ -3.+0.j]]\n",
      "\n",
      " [[ -9.+0.j]\n",
      "  [-19.+0.j]\n",
      "  [ -6.+0.j]]]\n",
      "(2, 3, 1)\n"
     ]
    }
   ],
   "source": [
    "#Example \n",
    "#it is taken from the paper \n",
    "#https://www.researchgate.net/publication/265330442_Third-Order_Tensors_as_Operators_on_Matrices_A_Theoretical_and_Computational_Framework_with_Applications_in_Imaging)\n",
    "\n",
    "A = np.array([[[1, 0], [0, 2], [-1, 3]], [[-2, 1], [-2, 7], [0, -1]]])\n",
    "B = np.array([[[3], [-1]], [[-2], [-3]]])\n",
    "\n",
    "C = tprod(A,B)\n",
    "\n",
    "print(C)\n",
    "print(np.shape(C))"
   ]
  }
 ],
 "metadata": {
  "kernelspec": {
   "display_name": "Python 3 (ipykernel)",
   "language": "python",
   "name": "python3"
  },
  "language_info": {
   "codemirror_mode": {
    "name": "ipython",
    "version": 3
   },
   "file_extension": ".py",
   "mimetype": "text/x-python",
   "name": "python",
   "nbconvert_exporter": "python",
   "pygments_lexer": "ipython3",
   "version": "3.8.13"
  }
 },
 "nbformat": 4,
 "nbformat_minor": 5
}
