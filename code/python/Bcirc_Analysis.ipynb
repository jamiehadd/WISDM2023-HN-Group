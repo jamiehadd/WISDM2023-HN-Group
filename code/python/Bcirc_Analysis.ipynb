{
 "cells": [
  {
   "cell_type": "code",
   "execution_count": 8,
   "id": "ef458b05",
   "metadata": {},
   "outputs": [],
   "source": [
    "import numpy as np\n",
    "import scipy"
   ]
  },
  {
   "cell_type": "code",
   "execution_count": 9,
   "id": "f5d3eb61",
   "metadata": {},
   "outputs": [],
   "source": [
    "def bcirc(A,B):\n",
    "    m_1,n_1 = np.shape(A)\n",
    "    if m_1 !=n_1:\n",
    "        print(\"err\")\n",
    "    m_2,n_2 = np.shape(B)\n",
    "    if m_2 != n_2 or m_2 !=m_1:\n",
    "        print(\"err\")\n",
    "    C = np.zeros((2*m_1,2*m_1))\n",
    "    C[:m_1,:m_1]=A\n",
    "    C[:m_1,m_1:2*m_1] = B\n",
    "    C[m_1:2*m_1,:m_1]=B\n",
    "    C[m_1:2*m_1,m_1:2*m_1] = A\n",
    "    return C"
   ]
  },
  {
   "cell_type": "code",
   "execution_count": 10,
   "id": "23d5bfe6",
   "metadata": {},
   "outputs": [],
   "source": [
    "A = np.array([[1,3],[1,-5]])\n",
    "B = np.array([[2,3],[2,14]])"
   ]
  },
  {
   "cell_type": "code",
   "execution_count": 11,
   "id": "6324a8f9",
   "metadata": {},
   "outputs": [],
   "source": [
    "C = bcirc(A,B)"
   ]
  },
  {
   "cell_type": "code",
   "execution_count": 12,
   "id": "5fb5993a",
   "metadata": {},
   "outputs": [
    {
     "name": "stdout",
     "output_type": "stream",
     "text": [
      "[[ 1.  3.  2.  3.]\n",
      " [ 1. -5.  2. 14.]\n",
      " [ 2.  3.  1.  3.]\n",
      " [ 2. 14.  1. -5.]]\n"
     ]
    }
   ],
   "source": [
    "print(C)"
   ]
  },
  {
   "cell_type": "code",
   "execution_count": 13,
   "id": "78154d6a",
   "metadata": {},
   "outputs": [],
   "source": [
    "from scipy.linalg import svdvals"
   ]
  },
  {
   "cell_type": "code",
   "execution_count": 14,
   "id": "1eef1928",
   "metadata": {},
   "outputs": [
    {
     "data": {
      "text/plain": [
       "array([5.84161925, 1.3694833 ])"
      ]
     },
     "execution_count": 14,
     "metadata": {},
     "output_type": "execute_result"
    }
   ],
   "source": [
    "#Singular Values of A\n",
    "scipy.linalg.svdvals(A.astype(float))"
   ]
  },
  {
   "cell_type": "code",
   "execution_count": 15,
   "id": "774a40fd",
   "metadata": {},
   "outputs": [
    {
     "data": {
      "text/plain": [
       "array([14.51560977,  1.51560977])"
      ]
     },
     "execution_count": 15,
     "metadata": {},
     "output_type": "execute_result"
    }
   ],
   "source": [
    "#Singular Values of B\n",
    "scipy.linalg.svdvals(B.astype(float))"
   ]
  },
  {
   "cell_type": "code",
   "execution_count": 16,
   "id": "d176e116",
   "metadata": {},
   "outputs": [
    {
     "data": {
      "text/plain": [
       "array([11.59298535,  0.77633153])"
      ]
     },
     "execution_count": 16,
     "metadata": {},
     "output_type": "execute_result"
    }
   ],
   "source": [
    "#Singular Values of A+B\n",
    "scipy.linalg.svdvals(A.astype(float)+B.astype(float))"
   ]
  },
  {
   "cell_type": "code",
   "execution_count": 17,
   "id": "1891abae",
   "metadata": {},
   "outputs": [
    {
     "data": {
      "text/plain": [
       "array([19.02637039,  0.99861401])"
      ]
     },
     "execution_count": 17,
     "metadata": {},
     "output_type": "execute_result"
    }
   ],
   "source": [
    "#Singular Values of A-B\n",
    "scipy.linalg.svdvals(A.astype(float)-B.astype(float))"
   ]
  },
  {
   "cell_type": "code",
   "execution_count": 18,
   "id": "3acab0c9",
   "metadata": {},
   "outputs": [
    {
     "data": {
      "text/plain": [
       "array([19.02637039, 11.59298535,  0.99861401,  0.77633153])"
      ]
     },
     "execution_count": 18,
     "metadata": {},
     "output_type": "execute_result"
    }
   ],
   "source": [
    "#Singular Values of bcirc([A,B])\n",
    "scipy.linalg.svdvals(C.astype(float))"
   ]
  },
  {
   "cell_type": "code",
   "execution_count": 174,
   "id": "9edeb072",
   "metadata": {},
   "outputs": [],
   "source": [
    "def bcirc(A,B,D):\n",
    "    m_1,n_1 = np.shape(A)\n",
    "    if m_1 !=n_1:\n",
    "        print(\"err\")\n",
    "    m_2,n_2 = np.shape(B)\n",
    "    if m_2 != n_2 or m_2 !=m_1:\n",
    "        print(\"err\")\n",
    "    m_3,n_3 = np.shape(D)\n",
    "    if m_3 != n_3 or m_3 !=m_1:\n",
    "        print(\"err\")\n",
    "    C = np.zeros((3*m_1,3*m_1))\n",
    "    C[:m_1,:m_1]=A\n",
    "    C[:m_1,m_1:2*m_1] = B\n",
    "    C[:m_1,2*m_1:3*m_1] = D\n",
    "    C[m_1:2*m_1,:m_1]=B\n",
    "    C[m_1:2*m_1,m_1:2*m_1] = D\n",
    "    C[m_1:2*m_1,2*m_1:3*m_1] = A\n",
    "    C[2*m_1:3*m_1,:m_1]=D\n",
    "    C[2*m_1:3*m_1,m_1:2*m_1] = A\n",
    "    C[2*m_1:3*m_1,2*m_1:3*m_1] = B\n",
    "    return C"
   ]
  },
  {
   "cell_type": "code",
   "execution_count": 220,
   "id": "13fbc84e",
   "metadata": {},
   "outputs": [],
   "source": [
    "A = np.array([[1,3,4],[2,5,6],[3,4,6]])\n",
    "B = np.array([[2,5,5],[-2,14,2],[5,7,4]])\n",
    "D = np.array([[4,3,3],[5,10,3],[-2,-3,-5]])"
   ]
  },
  {
   "cell_type": "code",
   "execution_count": 221,
   "id": "4c2bc005",
   "metadata": {},
   "outputs": [],
   "source": [
    "C_2 = bcirc(A,B,D)"
   ]
  },
  {
   "cell_type": "code",
   "execution_count": 222,
   "id": "b3ea8e0b",
   "metadata": {},
   "outputs": [
    {
     "data": {
      "text/plain": [
       "array([36.77715412, 15.26091393, 15.26091393, 10.47153186, 10.47153186,\n",
       "        8.19214096,  2.5159017 ,  1.85782848,  1.85782848])"
      ]
     },
     "execution_count": 222,
     "metadata": {},
     "output_type": "execute_result"
    }
   ],
   "source": [
    "scipy.linalg.svdvals(C_2.astype(float))"
   ]
  },
  {
   "cell_type": "code",
   "execution_count": 223,
   "id": "3d9ba8f3",
   "metadata": {},
   "outputs": [
    {
     "data": {
      "text/plain": [
       "array([36.77715412,  8.19214096,  2.5159017 ])"
      ]
     },
     "execution_count": 223,
     "metadata": {},
     "output_type": "execute_result"
    }
   ],
   "source": [
    "scipy.linalg.svdvals(A.astype(float)+B.astype(float)+D.astype(float))"
   ]
  },
  {
   "cell_type": "code",
   "execution_count": 224,
   "id": "ffcbc617",
   "metadata": {
    "scrolled": true
   },
   "outputs": [
    {
     "data": {
      "text/plain": [
       "array([13.49059837,  4.89336406,  0.24237133])"
      ]
     },
     "execution_count": 224,
     "metadata": {},
     "output_type": "execute_result"
    }
   ],
   "source": [
    "scipy.linalg.svdvals(-A.astype(float)+B.astype(float)-D.astype(float))"
   ]
  },
  {
   "cell_type": "code",
   "execution_count": 225,
   "id": "4393b33d",
   "metadata": {
    "scrolled": true
   },
   "outputs": [
    {
     "data": {
      "text/plain": [
       "array([19.78212877,  8.52762902,  3.73455815])"
      ]
     },
     "execution_count": 225,
     "metadata": {},
     "output_type": "execute_result"
    }
   ],
   "source": [
    "scipy.linalg.svdvals(A.astype(float)-B.astype(float)-D.astype(float))"
   ]
  },
  {
   "cell_type": "code",
   "execution_count": 226,
   "id": "ad651b47",
   "metadata": {
    "scrolled": true
   },
   "outputs": [
    {
     "data": {
      "text/plain": [
       "array([24.95905815,  9.38781742,  1.70713224])"
      ]
     },
     "execution_count": 226,
     "metadata": {},
     "output_type": "execute_result"
    }
   ],
   "source": [
    "scipy.linalg.svdvals(A.astype(float)+B.astype(float)-D.astype(float))"
   ]
  },
  {
   "cell_type": "code",
   "execution_count": 177,
   "id": "c2232dc5",
   "metadata": {},
   "outputs": [],
   "source": [
    "A = np.array([[1,3],[2,-5]])\n",
    "B = np.array([[2,-5],[2,-14]])\n",
    "D = np.array([[4,3],[-5,-10]])"
   ]
  },
  {
   "cell_type": "code",
   "execution_count": 178,
   "id": "00239b68",
   "metadata": {},
   "outputs": [],
   "source": [
    "C_2 = bcirc(A,B,D)"
   ]
  },
  {
   "cell_type": "code",
   "execution_count": 179,
   "id": "6659766c",
   "metadata": {},
   "outputs": [
    {
     "data": {
      "text/plain": [
       "array([29.04536102, 11.80506215, 11.80506215,  6.95463898,  6.45294565,\n",
       "        6.45294565])"
      ]
     },
     "execution_count": 179,
     "metadata": {},
     "output_type": "execute_result"
    }
   ],
   "source": [
    "scipy.linalg.svdvals(C_2.astype(float))"
   ]
  },
  {
   "cell_type": "code",
   "execution_count": 180,
   "id": "931517d3",
   "metadata": {},
   "outputs": [
    {
     "data": {
      "text/plain": [
       "array([29.04536102,  6.95463898])"
      ]
     },
     "execution_count": 180,
     "metadata": {},
     "output_type": "execute_result"
    }
   ],
   "source": [
    "scipy.linalg.svdvals(A.astype(float)+B.astype(float)+D.astype(float))"
   ]
  },
  {
   "cell_type": "code",
   "execution_count": 231,
   "id": "e0002c86",
   "metadata": {},
   "outputs": [],
   "source": [
    "A = np.array([[1,3,4],[2,5,6],[3,4,6]])\n",
    "B = np.array([[2,5,5],[2,14,2],[5,7,4]])\n",
    "D = np.array([[4,3,3],[5,10,3],[-2,-3,-5]])"
   ]
  },
  {
   "cell_type": "code",
   "execution_count": 232,
   "id": "7309f0f9",
   "metadata": {},
   "outputs": [],
   "source": [
    "C_2 = bcirc(A,B,D)"
   ]
  },
  {
   "cell_type": "code",
   "execution_count": 233,
   "id": "9d65d504",
   "metadata": {},
   "outputs": [
    {
     "data": {
      "text/plain": [
       "array([37.75809848, 15.48375768, 15.48375768,  8.5165155 ,  8.5165155 ,\n",
       "        7.17791923,  2.39211449,  2.39211449,  2.19168312])"
      ]
     },
     "execution_count": 233,
     "metadata": {},
     "output_type": "execute_result"
    }
   ],
   "source": [
    "scipy.linalg.svdvals(C_2.astype(float))"
   ]
  },
  {
   "cell_type": "code",
   "execution_count": 234,
   "id": "83d6d83b",
   "metadata": {},
   "outputs": [
    {
     "data": {
      "text/plain": [
       "array([37.75809848,  7.17791923,  2.19168312])"
      ]
     },
     "execution_count": 234,
     "metadata": {},
     "output_type": "execute_result"
    }
   ],
   "source": [
    "scipy.linalg.svdvals(A.astype(float)+B.astype(float)+D.astype(float))"
   ]
  },
  {
   "cell_type": "code",
   "execution_count": 235,
   "id": "3762862c",
   "metadata": {
    "scrolled": true
   },
   "outputs": [
    {
     "data": {
      "text/plain": [
       "array([11.3315783 ,  4.53560051,  1.01176149])"
      ]
     },
     "execution_count": 235,
     "metadata": {},
     "output_type": "execute_result"
    }
   ],
   "source": [
    "scipy.linalg.svdvals(-A.astype(float)+B.astype(float)-D.astype(float))"
   ]
  },
  {
   "cell_type": "code",
   "execution_count": 236,
   "id": "d9be65c6",
   "metadata": {
    "scrolled": true
   },
   "outputs": [
    {
     "data": {
      "text/plain": [
       "array([20.60439784,  8.32451718,  2.85678199])"
      ]
     },
     "execution_count": 236,
     "metadata": {},
     "output_type": "execute_result"
    }
   ],
   "source": [
    "scipy.linalg.svdvals(A.astype(float)-B.astype(float)-D.astype(float))"
   ]
  },
  {
   "cell_type": "code",
   "execution_count": 226,
   "id": "50b63e6b",
   "metadata": {
    "scrolled": true
   },
   "outputs": [
    {
     "data": {
      "text/plain": [
       "array([24.95905815,  9.38781742,  1.70713224])"
      ]
     },
     "execution_count": 226,
     "metadata": {},
     "output_type": "execute_result"
    }
   ],
   "source": [
    "scipy.linalg.svdvals(A.astype(float)+B.astype(float)-D.astype(float))"
   ]
  },
  {
   "cell_type": "code",
   "execution_count": null,
   "id": "c232ddff",
   "metadata": {},
   "outputs": [],
   "source": []
  }
 ],
 "metadata": {
  "kernelspec": {
   "display_name": "Python 3 (ipykernel)",
   "language": "python",
   "name": "python3"
  },
  "language_info": {
   "codemirror_mode": {
    "name": "ipython",
    "version": 3
   },
   "file_extension": ".py",
   "mimetype": "text/x-python",
   "name": "python",
   "nbconvert_exporter": "python",
   "pygments_lexer": "ipython3",
   "version": "3.9.7"
  }
 },
 "nbformat": 4,
 "nbformat_minor": 5
}
